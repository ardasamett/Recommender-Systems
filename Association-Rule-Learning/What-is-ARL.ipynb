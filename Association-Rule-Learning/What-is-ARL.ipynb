{
 "cells": [
  {
   "cell_type": "markdown",
   "id": "e12807d0-d6fa-406d-a456-ae824f63d2f7",
   "metadata": {},
   "source": [
    "<div align=\"center\">\n",
    "\n",
    "<img src=\"https://drive.google.com/uc?id=1vID8YejCMokatkkZ6q7K97f0B0yV3dzW\">\n",
    "\n",
    "# Association Rule Learning\n",
    "    \n",
    "</div>\n",
    "<hr>\n",
    "\n",
    "\n",
    "\n",
    "\n",
    "Association rule learning is a data mining technique used to identify interesting relationships or patterns in data. It is primarily used in market basket analysis to identify which items are frequently purchased together. The technique is based on the assumption that if two items are frequently purchased together, they are likely to be related in some way.\n",
    "\n",
    "The output of Association rule learning is a set of rules in the form of \"if X, then Y,\" where X and Y are sets of items. These rules can be used to make recommendations for products to customers or to optimize product placement in stores.\n",
    "\n",
    "One of the most commonly used measures in Association rule learning is support, which measures the frequency of an itemset in a dataset. Another important measure is confidence, which measures the conditional probability that an item Y is purchased given that item X is purchased.\n",
    "\n",
    "The Apriori algorithm is a popular algorithm for Association rule learning. It works by generating candidate itemsets and pruning those that do not meet a minimum support threshold. The algorithm then uses the remaining itemsets to generate rules.\n",
    "\n",
    "Overall, Association rule learning is a powerful technique for identifying relationships and patterns in data that can be used to inform decision-making in a variety of domains.\n",
    "\n",
    "### Some of well-known real life examples;\n",
    "\n",
    "- \"People who watched this also watched\" feature on video streaming platforms: This feature uses association rule learning to identify movies or TV shows that are frequently watched together, and then recommends those movies or TV shows to users who have watched one of them.\n",
    "\n",
    "- \"Frequently bought together\" feature on e-commerce websites: This feature uses association rule learning to identify items that are frequently bought together, and then recommends those items as a bundle to users who have added one of them to their cart.\n",
    "\n",
    "- \"Related products\" feature on e-commerce websites: This feature uses association rule learning to identify products that are frequently bought with a specific product, and then recommends those related products to users who are viewing that product.\n",
    "\n",
    "- \"Recommended for you\" feature on streaming platforms: This feature uses association rule learning to identify movies, TV shows, or music that are frequently listened to or watched by users with similar preferences, and then recommends those items to users based on their viewing or listening history.\n",
    "\n",
    "- \"Frequently searched together\" feature on search engines: This feature uses association rule learning to identify search queries that are frequently searched together, and then suggests those queries to users who are typing in a related search term.\n",
    "\n",
    "- \"Frequently ordered together\" feature on food delivery apps: This feature uses association rule learning to identify food items that are frequently ordered together, and then suggests those items as a combo meal to users who have added one of them to their cart."
   ]
  },
  {
   "cell_type": "code",
   "execution_count": null,
   "id": "d7c9fe88-71ed-4d56-a217-40f15eef2c44",
   "metadata": {},
   "outputs": [],
   "source": []
  }
 ],
 "metadata": {
  "kernelspec": {
   "display_name": "Python 3 (ipykernel)",
   "language": "python",
   "name": "python3"
  },
  "language_info": {
   "codemirror_mode": {
    "name": "ipython",
    "version": 3
   },
   "file_extension": ".py",
   "mimetype": "text/x-python",
   "name": "python",
   "nbconvert_exporter": "python",
   "pygments_lexer": "ipython3",
   "version": "3.10.7"
  }
 },
 "nbformat": 4,
 "nbformat_minor": 5
}
