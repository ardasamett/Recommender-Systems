{
 "cells": [
  {
   "cell_type": "markdown",
   "id": "5dde8c21-457f-42fc-a58f-f74ae83e63b4",
   "metadata": {},
   "source": [
    "### About Dataset\n",
    "\n",
    "https://www.kaggle.com/datasets/rounakbanik/the-movies-dataset\n",
    "\n",
    "**The Movies Dataset** contains information on 45,000 movies featured in the Full MovieLens dataset. Features include posters, backdrops, budget, revenue, release dates, languages, production countries and companies."
   ]
  },
  {
   "cell_type": "markdown",
   "id": "ffd237b0-9036-45f9-9966-ed54544029fe",
   "metadata": {},
   "source": [
    "<br>\n",
    "\n",
    "<hr>\n",
    "\n",
    "### Import Libraries"
   ]
  },
  {
   "cell_type": "code",
   "execution_count": 1,
   "id": "7f59cbbd-9df9-4dca-93fb-559b62805ca0",
   "metadata": {},
   "outputs": [],
   "source": [
    "import pandas as pd\n",
    "from sklearn.feature_extraction.text import TfidfVectorizer\n",
    "from sklearn.metrics.pairwise import cosine_similarity"
   ]
  },
  {
   "cell_type": "markdown",
   "id": "f6e08a80-ff7a-403b-9c35-a135c9415d1d",
   "metadata": {},
   "source": [
    "<br>\n",
    "\n",
    "<hr>\n",
    "\n",
    "### Functions"
   ]
  },
  {
   "cell_type": "code",
   "execution_count": 6,
   "id": "f39f2e8a-f559-48d9-a724-ebb35cfca39c",
   "metadata": {},
   "outputs": [],
   "source": [
    "def content_based_recommender(title, cosine_sim, dataframe):\n",
    "    indices = pd.Series(dataframe.index, index=dataframe['title'])\n",
    "    indices = indices[~indices.index.duplicated(keep='last')]\n",
    "    movie_index = indices[title]\n",
    "    similarity_scores = pd.DataFrame(cosine_sim[movie_index], columns=[\"score\"])\n",
    "    movie_indices = similarity_scores.sort_values(\"score\", ascending=False)[1:11].index\n",
    "    return dataframe['title'].iloc[movie_indices]\n",
    "\n",
    "def calculate_cosine_sim(dataframe):\n",
    "    tfidf = TfidfVectorizer(stop_words='english')\n",
    "    dataframe['overview'] = dataframe['overview'].fillna('')\n",
    "    tfidf_matrix = tfidf.fit_transform(dataframe['overview'])\n",
    "    cosine_sim = cosine_similarity(tfidf_matrix, tfidf_matrix)\n",
    "    return cosine_sim"
   ]
  },
  {
   "cell_type": "markdown",
   "id": "1a4ee299-d053-47e0-b36a-18a10e1aa4af",
   "metadata": {},
   "source": [
    "<br>\n",
    "\n",
    "<hr>\n",
    "\n",
    "### Read Dataset "
   ]
  },
  {
   "cell_type": "code",
   "execution_count": 4,
   "id": "378abfe6-a72f-469b-a0b6-575601c37085",
   "metadata": {},
   "outputs": [],
   "source": [
    "df_ = pd.read_csv(\"dataset/movies_metadata.csv\", low_memory=False)\n",
    "df = df_.copy()"
   ]
  },
  {
   "cell_type": "markdown",
   "id": "bb236e55-6fe9-4d8a-8640-0b3002df745c",
   "metadata": {},
   "source": [
    "<br>\n",
    "\n",
    "<hr>\n",
    "\n",
    "### Recommendation "
   ]
  },
  {
   "cell_type": "code",
   "execution_count": 47,
   "id": "36560aba-e999-47d8-b059-4e193630d390",
   "metadata": {},
   "outputs": [
    {
     "data": {
      "text/plain": [
       "9207     An Extremely Goofy Movie\n",
       "35575                         Max\n",
       "443                      Fearless\n",
       "235                 A Goofy Movie\n",
       "4101                Heartbreakers\n",
       "24576               The Guardians\n",
       "31705        The Phantom of Paris\n",
       "1617                         Bent\n",
       "35304            The Zohar Secret\n",
       "2282                     Rushmore\n",
       "Name: title, dtype: object"
      ]
     },
     "execution_count": 47,
     "metadata": {},
     "output_type": "execute_result"
    }
   ],
   "source": [
    "movie_title = 'Grumpier Old Men'\n",
    "\n",
    "cosine_sim = calculate_cosine_sim(df)\n",
    "content_based_recommender(movie_title,\n",
    "                          cosine_sim,\n",
    "                          df)"
   ]
  }
 ],
 "metadata": {
  "kernelspec": {
   "display_name": "Python 3 (ipykernel)",
   "language": "python",
   "name": "python3"
  },
  "language_info": {
   "codemirror_mode": {
    "name": "ipython",
    "version": 3
   },
   "file_extension": ".py",
   "mimetype": "text/x-python",
   "name": "python",
   "nbconvert_exporter": "python",
   "pygments_lexer": "ipython3",
   "version": "3.10.7"
  }
 },
 "nbformat": 4,
 "nbformat_minor": 5
}
