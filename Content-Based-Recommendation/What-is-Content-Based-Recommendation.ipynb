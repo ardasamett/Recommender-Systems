{
 "cells": [
  {
   "cell_type": "markdown",
   "id": "1f7347b3-90ed-4799-a360-9277ba9aee85",
   "metadata": {},
   "source": [
    "<div align=\"center\">\n",
    "\n",
    "<img src=\"https://drive.google.com/uc?id=1Vc84ykBr2S4UIR-TtU9sevaHQExZCzu5\">\n",
    "\n",
    "# Content Based Recommendation\n",
    "    \n",
    "</div>\n",
    "<hr>\n",
    "\n",
    "\n",
    "\n",
    "\n",
    "Content-based recommendation is a type of recommendation system that recommends items to users based on their past preferences or behavior. This approach focuses on the attributes or features of the items being recommended and tries to find similarities between the items and the user's preferences.\n",
    "\n",
    "### Some of well-known real life examples;\n",
    "\n",
    "- Netflix: Netflix uses a content-based recommendation system to recommend movies and TV shows to its users. It analyzes the attributes of the movies and TV shows, such as genre, actors, and plot, and recommends similar titles to users based on their viewing history.\n",
    "\n",
    "- Spotify: Spotify uses a content-based recommendation system to recommend music to its users. It analyzes the attributes of the songs, such as genre, tempo, and key, and recommends similar songs to users based on their listening history.\n",
    "\n",
    "- Amazon: Amazon uses a content-based recommendation system to recommend products to its users. It analyzes the attributes of the products, such as brand, category, and price, and recommends similar products to users based on their purchase history.\n",
    "\n",
    "- YouTube: YouTube uses a content-based recommendation system to recommend videos to its users. It analyzes the attributes of the videos, such as topic, length, and language, and recommends similar videos to users based on their viewing history.\n",
    "\n",
    "- Goodreads: Goodreads uses a content-based recommendation system to recommend books to its users. It analyzes the attributes of the books, such as genre, author, and length, and recommends similar books to users based on their reading history.\n",
    "\n",
    "- Airbnb: Airbnb uses a content-based recommendation system to recommend accommodations to its users. It analyzes the attributes of the accommodations, such as location, type, and amenities, and recommends similar accommodations to users based on their booking history."
   ]
  }
 ],
 "metadata": {
  "kernelspec": {
   "display_name": "Python 3 (ipykernel)",
   "language": "python",
   "name": "python3"
  },
  "language_info": {
   "codemirror_mode": {
    "name": "ipython",
    "version": 3
   },
   "file_extension": ".py",
   "mimetype": "text/x-python",
   "name": "python",
   "nbconvert_exporter": "python",
   "pygments_lexer": "ipython3",
   "version": "3.10.7"
  }
 },
 "nbformat": 4,
 "nbformat_minor": 5
}
