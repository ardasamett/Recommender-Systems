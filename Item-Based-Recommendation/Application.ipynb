{
 "cells": [
  {
   "cell_type": "markdown",
   "id": "d43467dd-7cec-433a-ab40-4fdf653a2841",
   "metadata": {},
   "source": [
    "### About Dataset\n",
    "\n",
    "https://www.kaggle.com/datasets/grouplens/movielens-20m-dataset\n",
    "\n",
    "**The MoviesLens Dataset** describe ratings and free-text tagging activities from MovieLens, a movie recommendation service. It contains 20000263 ratings and 465564 tag applications across 27278 movies. These data were created by 138493 users between January 09, 1995 and March 31, 2015. This dataset was generated on October 17, 2016.\n",
    "\n",
    "Users were selected at random for inclusion. All selected users had rated at least 20 movies."
   ]
  },
  {
   "cell_type": "markdown",
   "id": "65def84c-0a82-48d0-b74e-c60f669ac045",
   "metadata": {},
   "source": [
    "<br>\n",
    "\n",
    "<hr>\n",
    "\n",
    "### Import Libraries"
   ]
  },
  {
   "cell_type": "code",
   "execution_count": 1,
   "id": "5ac12c03-3e2a-4295-b36c-8d4e2bb18b4d",
   "metadata": {},
   "outputs": [],
   "source": [
    "import pandas as pd"
   ]
  },
  {
   "cell_type": "markdown",
   "id": "f22f873f-1c36-4e2a-9d12-9b69ae8198ab",
   "metadata": {},
   "source": [
    "<br>\n",
    "\n",
    "<hr>\n",
    "\n",
    "### Functions"
   ]
  },
  {
   "cell_type": "code",
   "execution_count": 6,
   "id": "ac46be67-b6cc-4781-9f46-0df34a0d4787",
   "metadata": {},
   "outputs": [],
   "source": [
    "def create_user_movie_df(movie,rating):    \n",
    "    df = movie.merge(rating, how=\"left\", on=\"movieId\")\n",
    "    comment_counts = pd.DataFrame(df[\"title\"].value_counts())\n",
    "    rare_movies = comment_counts[comment_counts[\"title\"] <= 1000].index\n",
    "    common_movies = df[~df[\"title\"].isin(rare_movies)]\n",
    "    user_movie_df = common_movies.pivot_table(index=[\"userId\"], columns=[\"title\"], values=\"rating\")\n",
    "    return user_movie_df\n",
    "\n",
    "\n",
    "def item_based_recommender(movie_name, user_movie_df):\n",
    "    movie_name = user_movie_df[movie_name]\n",
    "    return user_movie_df.corrwith(movie_name).sort_values(ascending=False).head(10)"
   ]
  },
  {
   "cell_type": "markdown",
   "id": "2810cb1f-f598-41a2-a6b3-8d395166b929",
   "metadata": {},
   "source": [
    "<br>\n",
    "\n",
    "<hr>\n",
    "\n",
    "### Read Dataset "
   ]
  },
  {
   "cell_type": "code",
   "execution_count": 5,
   "id": "0e39dc8a-e4d3-4a4b-882b-8c19cd9bfa3a",
   "metadata": {},
   "outputs": [],
   "source": [
    "movie = pd.read_csv('dataset/movie.csv')\n",
    "rating = pd.read_csv('dataset/rating.csv')"
   ]
  },
  {
   "cell_type": "markdown",
   "id": "6170d35b-ea3e-47b1-8e6a-45cb6a8d808f",
   "metadata": {},
   "source": [
    "<br>\n",
    "\n",
    "<hr>\n",
    "\n",
    "### Recommendation "
   ]
  },
  {
   "cell_type": "code",
   "execution_count": 10,
   "id": "858559f4-0310-4639-8aa1-605e40e214b4",
   "metadata": {},
   "outputs": [
    {
     "data": {
      "text/plain": [
       "title\n",
       "Edge of Tomorrow (2014)                   1.000000\n",
       "Jeffrey (1995)                            0.804896\n",
       "Little Big League (1994)                  0.750395\n",
       "To Gillian on Her 37th Birthday (1996)    0.748503\n",
       "Eye for an Eye (1996)                     0.733067\n",
       "Amateur (1994)                            0.732559\n",
       "Two if by Sea (1996)                      0.720285\n",
       "Eddie (1996)                              0.718212\n",
       "Heart and Souls (1993)                    0.715760\n",
       "Pollyanna (1960)                          0.689885\n",
       "dtype: float64"
      ]
     },
     "execution_count": 10,
     "metadata": {},
     "output_type": "execute_result"
    }
   ],
   "source": [
    "movie_title = 'Edge of Tomorrow (2014)'\n",
    "user_movie_df = create_user_movie_df(movie,rating)\n",
    "item_based_recommender(movie_title, user_movie_df)"
   ]
  }
 ],
 "metadata": {
  "kernelspec": {
   "display_name": "Python 3 (ipykernel)",
   "language": "python",
   "name": "python3"
  },
  "language_info": {
   "codemirror_mode": {
    "name": "ipython",
    "version": 3
   },
   "file_extension": ".py",
   "mimetype": "text/x-python",
   "name": "python",
   "nbconvert_exporter": "python",
   "pygments_lexer": "ipython3",
   "version": "3.10.7"
  }
 },
 "nbformat": 4,
 "nbformat_minor": 5
}
