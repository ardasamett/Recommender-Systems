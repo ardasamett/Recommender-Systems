{
 "cells": [
  {
   "cell_type": "markdown",
   "id": "a382fcf3-8203-45ea-97bc-dd7166a28326",
   "metadata": {},
   "source": [
    "<div align=\"center\">\n",
    "\n",
    "<img src=\"https://drive.google.com/uc?id=1RVOz_L9clkbbFTF9zh3Na778kdEiwaGK\">\n",
    "    \n",
    "# Item Based Recommendation\n",
    "    \n",
    "</div>\n",
    "<hr>\n",
    "\n",
    "\n",
    "\n",
    "\n",
    "Item-based recommendation is a type of recommendation system that recommends items to users based on the similarities between items. This approach focuses on the relationships between items, rather than the preferences or behavior of the user.\n",
    "\n",
    "\n",
    "\n",
    "### Some of well-known real life examples;\n",
    "\n",
    "- Amazon: Amazon uses an item-based recommendation system to recommend products to its users. It analyzes the purchasing history of all its users and identifies which products are frequently purchased together. It then recommends those products to users who have bought one of the products in the pair.\n",
    "\n",
    "- YouTube: YouTube uses an item-based recommendation system to recommend videos to its users. It analyzes the viewing history of all its users and identifies which videos are frequently watched together. It then recommends those videos to users who have watched one of the videos in the pair.\n",
    "\n",
    "- Last.fm: Last.fm uses an item-based recommendation system to recommend music to its users. It analyzes the listening history of all its users and identifies which songs are frequently played together. It then recommends those songs to users who have listened to one of the songs in the pair.\n",
    "\n",
    "- IMDB: IMDB uses an item-based recommendation system to recommend movies to its users. It analyzes the rating history of all its users and identifies which movies are frequently rated similarly. It then recommends those movies to users who have rated one of the movies in the pair.\n",
    "\n",
    "- Steam: Steam uses an item-based recommendation system to recommend games to its users. It analyzes the playing history of all its users and identifies which games are frequently played together. It then recommends those games to users who have played one of the games in the pair.\n",
    "\n",
    "- Yelp: Yelp uses an item-based recommendation system to recommend restaurants to its users. It analyzes the review history of all its users and identifies which restaurants are frequently reviewed similarly. It then recommends those restaurants to users who have reviewed one of the restaurants in the pair."
   ]
  },
  {
   "cell_type": "code",
   "execution_count": null,
   "id": "493f75ed-13fd-4d64-9799-79ea44f1e040",
   "metadata": {},
   "outputs": [],
   "source": []
  }
 ],
 "metadata": {
  "kernelspec": {
   "display_name": "Python 3 (ipykernel)",
   "language": "python",
   "name": "python3"
  },
  "language_info": {
   "codemirror_mode": {
    "name": "ipython",
    "version": 3
   },
   "file_extension": ".py",
   "mimetype": "text/x-python",
   "name": "python",
   "nbconvert_exporter": "python",
   "pygments_lexer": "ipython3",
   "version": "3.10.7"
  }
 },
 "nbformat": 4,
 "nbformat_minor": 5
}
