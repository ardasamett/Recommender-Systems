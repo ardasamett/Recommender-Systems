{
 "cells": [
  {
   "cell_type": "markdown",
   "id": "201dade8-012e-4830-9772-e3163f563791",
   "metadata": {},
   "source": [
    "<div align=\"center\">\n",
    "\n",
    "<img src=\"https://drive.google.com/uc?id=1KcWwf0r8Fr3RD4KoKAuu0PWd0XJKv1Tk\">\n",
    "    \n",
    "# Model Based Recommendation\n",
    "    \n",
    "</div>\n",
    "<hr>\n",
    "\n",
    "A model-based recommender system is a type of recommendation system that uses mathematical models to make predictions about user preferences. The main idea behind model-based recommenders is to build a model of user preferences based on available data, and then use this model to make predictions for items that the user has not yet interacted with.\n",
    "\n",
    "### There are several types and methods of model-based recommender systems:\n",
    "\n",
    "- Matrix Factorization: This method factorizes the user-item rating matrix into lower-rank matrices, which can be used to predict the ratings for items that the user has not yet rated.\n",
    "\n",
    "- Bayesian Networks: This method uses probabilistic graphical models to represent dependencies between different items, and can be used to make recommendations based on these dependencies.\n",
    "\n",
    "- Collaborative Filtering: This method uses the historical data of users to find similar users based on their preferences, and recommends items that similar users have liked in the past.\n",
    "\n",
    "- Clustering: This method clusters users and items based on their similarities, and then makes recommendations based on the cluster to which the user belongs.\n",
    "\n",
    "- Neural Networks: This method uses deep learning algorithms to build a model of user preferences, which can then be used to make recommendations.\n",
    "\n",
    "\n",
    "### Some of well-known real life examples;\n",
    "\n",
    "- Netflix: Netflix uses a matrix factorization method to recommend movies to its users based on their past viewing habits.\n",
    "\n",
    "- Amazon: Amazon uses a collaborative filtering method to recommend products to its users based on their purchase history.\n",
    "\n",
    "- Spotify: Spotify uses a combination of collaborative filtering and neural networks to recommend music to its users based on their listening history.\n",
    "\n",
    "- YouTube: YouTube uses a combination of collaborative filtering and neural networks to recommend videos to its users based on their viewing history.\n",
    "\n",
    "- LinkedIn: LinkedIn uses a clustering method to recommend jobs to its users based on their career interests and past job experiences.\n",
    "\n",
    "- Airbnb: Airbnb uses a combination of association rule mining and collaborative filtering to recommend listings to its users based on their past booking history and preferences.\n",
    "\n",
    "- Pandora: Pandora is an online music streaming service that uses a combination of collaborative filtering and music analysis to recommend songs to its users based on their listening habits and preferences.\n",
    "\n",
    "- Zillow: Zillow, a real estate marketplace, uses a collaborative filtering method to recommend houses to its users based on their search history and preferences.\n",
    "\n",
    "- Yelp: Yelp, a review platform, uses a combination of collaborative filtering and natural language processing to recommend restaurants and other businesses to its users based on their past reviews and preferences.\n",
    "\n",
    "- Uber: Uber uses a combination of collaborative filtering and machine learning algorithms to recommend rides to its users based on their location, past ride history, and other factors.\n",
    "\n",
    "- Goodreads: Goodreads, a social network for book lovers, uses a collaborative filtering method to recommend books to its users based on their reading history and preferences.\n",
    "\n",
    "- Pinterest: Pinterest, a social media platform for sharing ideas and inspiration, uses a combination of collaborative filtering and natural language processing to recommend pins to its users based on their interests and past engagement.\n",
    "\n"
   ]
  },
  {
   "cell_type": "code",
   "execution_count": null,
   "id": "f7068ac7-d993-4fb4-ab6f-b651d5fa2c81",
   "metadata": {},
   "outputs": [],
   "source": []
  }
 ],
 "metadata": {
  "kernelspec": {
   "display_name": "Python 3 (ipykernel)",
   "language": "python",
   "name": "python3"
  },
  "language_info": {
   "codemirror_mode": {
    "name": "ipython",
    "version": 3
   },
   "file_extension": ".py",
   "mimetype": "text/x-python",
   "name": "python",
   "nbconvert_exporter": "python",
   "pygments_lexer": "ipython3",
   "version": "3.10.7"
  }
 },
 "nbformat": 4,
 "nbformat_minor": 5
}
