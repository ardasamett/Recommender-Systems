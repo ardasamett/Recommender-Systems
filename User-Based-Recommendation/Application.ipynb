{
 "cells": [
  {
   "cell_type": "markdown",
   "id": "c6ebfbc4-5d28-4a65-b864-04876b29794d",
   "metadata": {},
   "source": [
    "### About Dataset\n",
    "\n",
    "https://www.kaggle.com/datasets/grouplens/movielens-20m-dataset\n",
    "\n",
    "**The MoviesLens Dataset** describe ratings and free-text tagging activities from MovieLens, a movie recommendation service. It contains 20000263 ratings and 465564 tag applications across 27278 movies. These data were created by 138493 users between January 09, 1995 and March 31, 2015. This dataset was generated on October 17, 2016.\n",
    "\n",
    "Users were selected at random for inclusion. All selected users had rated at least 20 movies."
   ]
  },
  {
   "cell_type": "markdown",
   "id": "7ef8670a-f184-4099-b487-32bd558b06ca",
   "metadata": {},
   "source": [
    "<br>\n",
    "\n",
    "<hr>\n",
    "\n",
    "### Import Libraries"
   ]
  },
  {
   "cell_type": "code",
   "execution_count": 1,
   "id": "d18b06eb-2215-49eb-a6bb-c5824eefec36",
   "metadata": {},
   "outputs": [],
   "source": [
    "import pandas as pd"
   ]
  },
  {
   "cell_type": "markdown",
   "id": "7c5cf94f-dd3e-46d2-99d4-fdbadd09d264",
   "metadata": {},
   "source": [
    "<br>\n",
    "\n",
    "<hr>\n",
    "\n",
    "### Functions"
   ]
  },
  {
   "cell_type": "code",
   "execution_count": 6,
   "id": "78daaa04-014a-47dc-b2d1-ffbab36de50e",
   "metadata": {},
   "outputs": [],
   "source": [
    "def create_user_movie_df(movie,rating):\n",
    "    df = movie.merge(rating, how=\"left\", on=\"movieId\")\n",
    "    comment_counts = pd.DataFrame(df[\"title\"].value_counts())\n",
    "    rare_movies = comment_counts[comment_counts[\"title\"] <= 1000].index\n",
    "    common_movies = df[~df[\"title\"].isin(rare_movies)]\n",
    "    user_movie_df = common_movies.pivot_table(index=[\"userId\"], columns=[\"title\"], values=\"rating\")\n",
    "    return user_movie_df\n",
    "\n",
    "def user_based_recommender(random_user, user_movie_df, ratio=60, cor_th=0.65, score=3.5):\n",
    "    random_user_df = user_movie_df[user_movie_df.index == random_user]\n",
    "    movies_watched = random_user_df.columns[random_user_df.notna().any()].tolist()\n",
    "    movies_watched_df = user_movie_df[movies_watched]\n",
    "    user_movie_count = movies_watched_df.T.notnull().sum()\n",
    "    user_movie_count = user_movie_count.reset_index()\n",
    "    user_movie_count.columns = [\"userId\", \"movie_count\"]\n",
    "    perc = len(movies_watched) * ratio / 100\n",
    "    users_same_movies = user_movie_count[user_movie_count[\"movie_count\"] > perc][\"userId\"]\n",
    "\n",
    "    final_df = pd.concat([movies_watched_df[movies_watched_df.index.isin(users_same_movies)],\n",
    "                          random_user_df[movies_watched]])\n",
    "\n",
    "    corr_df = final_df.T.corr().unstack().sort_values().drop_duplicates()\n",
    "    corr_df = pd.DataFrame(corr_df, columns=[\"corr\"])\n",
    "    corr_df.index.names = ['user_id_1', 'user_id_2']\n",
    "    corr_df = corr_df.reset_index()\n",
    "\n",
    "    top_users = corr_df[(corr_df[\"user_id_1\"] == random_user) & (corr_df[\"corr\"] >= cor_th)][\n",
    "        [\"user_id_2\", \"corr\"]].reset_index(drop=True)\n",
    "\n",
    "    top_users = top_users.sort_values(by='corr', ascending=False)\n",
    "    top_users.rename(columns={\"user_id_2\": \"userId\"}, inplace=True)\n",
    "    rating = pd.read_csv('dataset/rating.csv')\n",
    "    top_users_ratings = top_users.merge(rating[[\"userId\", \"movieId\", \"rating\"]], how='inner')\n",
    "    top_users_ratings['weighted_rating'] = top_users_ratings['corr'] * top_users_ratings['rating']\n",
    "\n",
    "    recommendation_df = top_users_ratings.groupby('movieId').agg({\"weighted_rating\": \"mean\"})\n",
    "    recommendation_df = recommendation_df.reset_index()\n",
    "\n",
    "    movies_to_be_recommend = recommendation_df[recommendation_df[\"weighted_rating\"] > score].sort_values(\"weighted_rating\", ascending=False)\n",
    "    movie = pd.read_csv('dataset/movie.csv')\n",
    "    return movies_to_be_recommend.merge(movie[[\"movieId\", \"title\"]])"
   ]
  },
  {
   "cell_type": "markdown",
   "id": "ab9571f8-780b-415c-847c-bf67ecdcc24b",
   "metadata": {},
   "source": [
    "<br>\n",
    "\n",
    "<hr>\n",
    "\n",
    "### Read Dataset "
   ]
  },
  {
   "cell_type": "code",
   "execution_count": 4,
   "id": "b913554a-7cb0-4281-9aa7-6e5cc828fa3e",
   "metadata": {},
   "outputs": [],
   "source": [
    "movie = pd.read_csv('dataset/movie.csv')\n",
    "rating = pd.read_csv('dataset/rating.csv')"
   ]
  },
  {
   "cell_type": "code",
   "execution_count": 7,
   "id": "dadff5cb-b09e-4a01-9366-15f13cd4a9b4",
   "metadata": {},
   "outputs": [
    {
     "data": {
      "text/html": [
       "<div>\n",
       "<style scoped>\n",
       "    .dataframe tbody tr th:only-of-type {\n",
       "        vertical-align: middle;\n",
       "    }\n",
       "\n",
       "    .dataframe tbody tr th {\n",
       "        vertical-align: top;\n",
       "    }\n",
       "\n",
       "    .dataframe thead th {\n",
       "        text-align: right;\n",
       "    }\n",
       "</style>\n",
       "<table border=\"1\" class=\"dataframe\">\n",
       "  <thead>\n",
       "    <tr style=\"text-align: right;\">\n",
       "      <th></th>\n",
       "      <th>movieId</th>\n",
       "      <th>weighted_rating</th>\n",
       "      <th>title</th>\n",
       "    </tr>\n",
       "  </thead>\n",
       "  <tbody>\n",
       "    <tr>\n",
       "      <th>0</th>\n",
       "      <td>4223</td>\n",
       "      <td>5.0</td>\n",
       "      <td>Enemy at the Gates (2001)</td>\n",
       "    </tr>\n",
       "    <tr>\n",
       "      <th>1</th>\n",
       "      <td>277</td>\n",
       "      <td>4.5</td>\n",
       "      <td>Miracle on 34th Street (1994)</td>\n",
       "    </tr>\n",
       "    <tr>\n",
       "      <th>2</th>\n",
       "      <td>1036</td>\n",
       "      <td>4.5</td>\n",
       "      <td>Die Hard (1988)</td>\n",
       "    </tr>\n",
       "    <tr>\n",
       "      <th>3</th>\n",
       "      <td>1285</td>\n",
       "      <td>4.5</td>\n",
       "      <td>Heathers (1989)</td>\n",
       "    </tr>\n",
       "    <tr>\n",
       "      <th>4</th>\n",
       "      <td>1777</td>\n",
       "      <td>4.5</td>\n",
       "      <td>Wedding Singer, The (1998)</td>\n",
       "    </tr>\n",
       "    <tr>\n",
       "      <th>5</th>\n",
       "      <td>1961</td>\n",
       "      <td>4.5</td>\n",
       "      <td>Rain Man (1988)</td>\n",
       "    </tr>\n",
       "    <tr>\n",
       "      <th>6</th>\n",
       "      <td>4698</td>\n",
       "      <td>4.5</td>\n",
       "      <td>Orphans (1997)</td>\n",
       "    </tr>\n",
       "    <tr>\n",
       "      <th>7</th>\n",
       "      <td>5620</td>\n",
       "      <td>4.5</td>\n",
       "      <td>Sweet Home Alabama (2002)</td>\n",
       "    </tr>\n",
       "  </tbody>\n",
       "</table>\n",
       "</div>"
      ],
      "text/plain": [
       "   movieId  weighted_rating                          title\n",
       "0     4223              5.0      Enemy at the Gates (2001)\n",
       "1      277              4.5  Miracle on 34th Street (1994)\n",
       "2     1036              4.5                Die Hard (1988)\n",
       "3     1285              4.5                Heathers (1989)\n",
       "4     1777              4.5     Wedding Singer, The (1998)\n",
       "5     1961              4.5                Rain Man (1988)\n",
       "6     4698              4.5                 Orphans (1997)\n",
       "7     5620              4.5      Sweet Home Alabama (2002)"
      ]
     },
     "execution_count": 7,
     "metadata": {},
     "output_type": "execute_result"
    }
   ],
   "source": [
    "user_movie_df = create_user_movie_df(movie,rating)\n",
    "\n",
    "random_user = int(pd.Series(user_movie_df.index).sample(1).values)\n",
    "\n",
    "user_based_recommender(random_user, user_movie_df, cor_th=0.70, score=4)"
   ]
  }
 ],
 "metadata": {
  "kernelspec": {
   "display_name": "Python 3 (ipykernel)",
   "language": "python",
   "name": "python3"
  },
  "language_info": {
   "codemirror_mode": {
    "name": "ipython",
    "version": 3
   },
   "file_extension": ".py",
   "mimetype": "text/x-python",
   "name": "python",
   "nbconvert_exporter": "python",
   "pygments_lexer": "ipython3",
   "version": "3.10.7"
  }
 },
 "nbformat": 4,
 "nbformat_minor": 5
}
