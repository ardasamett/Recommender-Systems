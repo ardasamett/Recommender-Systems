{
 "cells": [
  {
   "cell_type": "markdown",
   "id": "e1aeba81-6fb5-4a15-9bc6-80819b29c067",
   "metadata": {},
   "source": [
    "<div align=\"center\">\n",
    "\n",
    "<img src=\"https://drive.google.com/uc?id=1qIRkzLz3qyuoiVDSWUQ_itooFkuzzAtd\">\n",
    "    \n",
    "# User Based Recommendation\n",
    "    \n",
    "</div>\n",
    "<hr>\n",
    "\n",
    "\n",
    "\n",
    "\n",
    "User-based recommendation is a type of recommendation system that recommends items to users based on the preferences or behavior of similar users. This approach focuses on finding users who have similar interests and recommending items that those users have liked or interacted with.\n",
    "\n",
    "\n",
    "### Some of well-known real life examples;\n",
    "\n",
    "- Netflix: Netflix uses a user-based recommendation system to recommend movies and TV shows to its users. It analyzes the viewing history of its users and identifies users who have similar viewing histories. It then recommends movies and TV shows to those users based on what other similar users have watched.\n",
    "\n",
    "- Spotify: Spotify uses a user-based recommendation system to recommend music to its users. It analyzes the listening history of its users and identifies users who have similar music tastes. It then recommends music to those users based on what other similar users have listened to.\n",
    "\n",
    "- Amazon: Amazon uses a user-based recommendation system to recommend products to its users. It analyzes the purchasing history of its users and identifies users who have similar purchasing histories. It then recommends products to those users based on what other similar users have bought.\n",
    "\n",
    "- YouTube: YouTube uses a user-based recommendation system to recommend videos to its users. It analyzes the viewing history of its users and identifies users who have similar interests. It then recommends videos to those users based on what other similar users have watched.\n",
    "\n",
    "- Pandora: Pandora uses a user-based recommendation system to recommend music to its users. It analyzes the listening history of its users and identifies users who have similar music preferences. It then recommends music to those users based on what other similar users have liked.\n",
    "\n",
    "- LinkedIn: LinkedIn uses a user-based recommendation system to recommend connections and job opportunities to its users. It analyzes the profile information and job history of its users and identifies users who have similar backgrounds or job interests. It then recommends connections and job opportunities to those users based on what other similar users have done.\n"
   ]
  }
 ],
 "metadata": {
  "kernelspec": {
   "display_name": "Python 3 (ipykernel)",
   "language": "python",
   "name": "python3"
  },
  "language_info": {
   "codemirror_mode": {
    "name": "ipython",
    "version": 3
   },
   "file_extension": ".py",
   "mimetype": "text/x-python",
   "name": "python",
   "nbconvert_exporter": "python",
   "pygments_lexer": "ipython3",
   "version": "3.10.7"
  }
 },
 "nbformat": 4,
 "nbformat_minor": 5
}
